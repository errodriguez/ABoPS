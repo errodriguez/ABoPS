{
 "cells": [
  {
   "cell_type": "markdown",
   "id": "071db74b-ad9b-4bf9-a972-296996f7a650",
   "metadata": {},
   "source": [
    "## Regresión Lineal (01)\n",
    "\n",
    "La regresión lineal es uno de los primeros ejemplos y ejercicios a realizar al momento de introducirse en el uso del aprendizaje automático y la ciencia de datos. Es una de las formas más simples y sencillas para hacer un modelo formal sobre un conjunto de datos para su anállisis y pronóstico."
   ]
  },
  {
   "cell_type": "markdown",
   "id": "f6d7e959-00bc-4ddb-8849-2877475cc0d3",
   "metadata": {},
   "source": [
    "Declaración de bibliotecas a usar y su propósito."
   ]
  },
  {
   "cell_type": "code",
   "execution_count": 1,
   "id": "d33652a3-2eed-4d5e-9cba-6866e3db1471",
   "metadata": {},
   "outputs": [],
   "source": [
    "# Para manejo del protocolo HTTP y la descarga del archivo de datos. En caso de que el archivo ya no pudiera estar disponible en el \n",
    "# futuro, una copia de éste se ha hecho en el directorio Archive.\n",
    "from io import StringIO\n",
    "import requests\n",
    "\n",
    "# Biblioteca de modelos de machine learning y medidas.\n",
    "#from sklearn.model_selection import train_test_split\n",
    "# from sklearn.linear_model import LinearRegression\n",
    "# from sklearn import metrics\n",
    "\n",
    "# Procesamiento de datos en data frames y procesamiento numérico.\n",
    "import pandas as pd\n",
    "import numpy as np\n",
    "\n",
    "# Bibliotecas de visualización.\n",
    "import matplotlib.pyplot as plt\n",
    "# import seaborn as sns"
   ]
  },
  {
   "cell_type": "markdown",
   "id": "c1354f01-ae01-4601-9e4c-4a1d6530536a",
   "metadata": {},
   "source": [
    "Para facilitar la visualización de gráficos de **Matplotlib** y su actualización en línea"
   ]
  },
  {
   "cell_type": "code",
   "execution_count": 2,
   "id": "1ab2839f-d6e7-4d88-8eab-9a6a9fcce810",
   "metadata": {},
   "outputs": [],
   "source": [
    "%matplotlib inline"
   ]
  },
  {
   "cell_type": "code",
   "execution_count": 3,
   "id": "a055fa2b-4bf8-454b-99c1-652c427e37f9",
   "metadata": {},
   "outputs": [],
   "source": [
    "# URL del archivo a ser descargado\n",
    "url = 'https://raw.githubusercontent.com/kumudlakara/Medium-codes/main/linear_regression/house_price_data.txt'\n",
    "\n",
    "# Se crea un objeto que permita interactuar con el protocolo HTTP.\n",
    "response = requests.get(url)"
   ]
  },
  {
   "cell_type": "markdown",
   "id": "8e57df7d-e0a8-48ea-ba56-d3c4b1bbc163",
   "metadata": {},
   "source": [
    "Se valida si el archivo puede ser descargado. Para este caso, la forma como el servidor web responde sobre el archivo de la petición genera una respuesta de direccionamiento (en un browser se abrirá una ventana de dialógo para seleccionar un directoprio donde guardar al archivo), de aquí que se recurra al uso de la biblioteca `io` para obtner el conteniod del archivo de un _stream_ de octetos que puedan ser leídos como los datos de un archivo. Como el archivo no cuenta con nombres de columnas, éstas deben ser adicionadas."
   ]
  },
  {
   "cell_type": "code",
   "execution_count": 4,
   "id": "d2a94b00-7346-4c63-a069-9e97d2a50531",
   "metadata": {},
   "outputs": [],
   "source": [
    "if response.status_code == 200:\n",
    "    data = StringIO(response.text)\n",
    "    df = pd.read_csv(data, sep=\",\", index_col=False)\n",
    "    df.columns = [\"housesize\", \"rooms\", \"price\"]\n",
    "else:\n",
    "    print(f\"Failed to fetch data: status code {response.status_code}\")"
   ]
  },
  {
   "cell_type": "markdown",
   "id": "241bf2e2-4494-486d-bdc7-4dc0139819c9",
   "metadata": {},
   "source": [
    "Se revisa la estructura del _data frame_ en general (contenido, tipos de datos, registros faltantes)."
   ]
  },
  {
   "cell_type": "code",
   "execution_count": 5,
   "id": "8cea3e45-f383-45a3-8f62-860f59be8d39",
   "metadata": {},
   "outputs": [
    {
     "name": "stdout",
     "output_type": "stream",
     "text": [
      "<class 'pandas.core.frame.DataFrame'>\n",
      "RangeIndex: 46 entries, 0 to 45\n",
      "Data columns (total 3 columns):\n",
      " #   Column     Non-Null Count  Dtype\n",
      "---  ------     --------------  -----\n",
      " 0   housesize  46 non-null     int64\n",
      " 1   rooms      46 non-null     int64\n",
      " 2   price      46 non-null     int64\n",
      "dtypes: int64(3)\n",
      "memory usage: 1.2 KB\n"
     ]
    }
   ],
   "source": [
    "df.info()"
   ]
  },
  {
   "cell_type": "code",
   "execution_count": 6,
   "id": "2ae0a0df-03a0-44df-afb3-87a2ca6f124d",
   "metadata": {},
   "outputs": [
    {
     "data": {
      "text/html": [
       "<div>\n",
       "<style scoped>\n",
       "    .dataframe tbody tr th:only-of-type {\n",
       "        vertical-align: middle;\n",
       "    }\n",
       "\n",
       "    .dataframe tbody tr th {\n",
       "        vertical-align: top;\n",
       "    }\n",
       "\n",
       "    .dataframe thead th {\n",
       "        text-align: right;\n",
       "    }\n",
       "</style>\n",
       "<table border=\"1\" class=\"dataframe\">\n",
       "  <thead>\n",
       "    <tr style=\"text-align: right;\">\n",
       "      <th></th>\n",
       "      <th>housesize</th>\n",
       "      <th>rooms</th>\n",
       "      <th>price</th>\n",
       "    </tr>\n",
       "  </thead>\n",
       "  <tbody>\n",
       "    <tr>\n",
       "      <th>0</th>\n",
       "      <td>1600</td>\n",
       "      <td>3</td>\n",
       "      <td>329900</td>\n",
       "    </tr>\n",
       "    <tr>\n",
       "      <th>1</th>\n",
       "      <td>2400</td>\n",
       "      <td>3</td>\n",
       "      <td>369000</td>\n",
       "    </tr>\n",
       "    <tr>\n",
       "      <th>2</th>\n",
       "      <td>1416</td>\n",
       "      <td>2</td>\n",
       "      <td>232000</td>\n",
       "    </tr>\n",
       "    <tr>\n",
       "      <th>3</th>\n",
       "      <td>3000</td>\n",
       "      <td>4</td>\n",
       "      <td>539900</td>\n",
       "    </tr>\n",
       "    <tr>\n",
       "      <th>4</th>\n",
       "      <td>1985</td>\n",
       "      <td>4</td>\n",
       "      <td>299900</td>\n",
       "    </tr>\n",
       "  </tbody>\n",
       "</table>\n",
       "</div>"
      ],
      "text/plain": [
       "   housesize  rooms   price\n",
       "0       1600      3  329900\n",
       "1       2400      3  369000\n",
       "2       1416      2  232000\n",
       "3       3000      4  539900\n",
       "4       1985      4  299900"
      ]
     },
     "execution_count": 6,
     "metadata": {},
     "output_type": "execute_result"
    }
   ],
   "source": [
    "df.head()"
   ]
  },
  {
   "cell_type": "markdown",
   "id": "e15641cf-72e7-4118-b621-f28e6365e7ae",
   "metadata": {},
   "source": [
    "Una inspección visual, genérica también, se puede hacer mediante una gráfica."
   ]
  },
  {
   "cell_type": "markdown",
   "id": "6542449c-6b85-4a57-bcc6-d3300e020c00",
   "metadata": {},
   "source": [
    "Tomamos las dos primeras columnas del _dataset_ (`data[:, :2]`) para las variables independientes y la última (`datos[:,-1]`) como la varible dependiente."
   ]
  },
  {
   "cell_type": "code",
   "execution_count": 7,
   "id": "ff79110e-f61f-47f0-8968-af72595c14d0",
   "metadata": {},
   "outputs": [
    {
     "data": {
      "image/png": "[encoded data removed]",
      "text/plain": [
       "<Figure size 1000x800 with 2 Axes>"
      ]
     },
     "metadata": {},
     "output_type": "display_data"
    }
   ],
   "source": [
    "data = np.array(df, dtype=float)\n",
    "\n",
    "fig, axes = plt.subplots(nrows=1, ncols=2, figsize=(10,8))\n",
    "axes[0].plot(data[:,0], data[:,-1], 'bo')\n",
    "axes[0].set_xlabel('house size')\n",
    "axes[0].set_ylabel('price')\n",
    "\n",
    "axes[1].plot(data[:,1], data[:,-1], 'bo')\n",
    "axes[1].set_xlabel('rooms')\n",
    "axes[1].set_ylabel('price')\n",
    "plt.show()"
   ]
  },
  {
   "cell_type": "markdown",
   "id": "d64eae44-5943-4599-871a-01d158c7da3d",
   "metadata": {},
   "source": [
    "Si observa el conjunto de datos sin procesar, se notará que los valores de la segunda columna (el número de habitaciones) son mucho más pequeños que los de la primera (el tamaño de la casa). Nuestro modelo no evalúa estos datos como el número de habitaciones o el tamaño de la casa. Para el modelo, todo son solo números. Esto puede crear un sesgo no deseado en su modelo de aprendizaje automático hacia las columnas (o características) con valores numéricos más altos que las demás. También puede crear un desequilibrio en la varianza y la media matemática. Por estos motivos y también para facilitar el trabajo, siempre se recomienda escalar o normalizar las funciones para que todas se encuentren dentro del mismo rango (por ejemplo, [-1 a 1] o [0 a 1]). Esto hace que el entrenamiento sea mucho más sencillo. Entonces, para nuestro propósito aquí, usaremos la normalización de características, que en el sentido matemático significa:"
   ]
  },
  {
   "cell_type": "markdown",
   "id": "57bec383-1e7a-4ccf-b569-3e0e9981469f",
   "metadata": {},
   "source": [
    "$$ Z = \\frac{x-\\mu}{\\sigma} $$\n",
    "donde:\n",
    "+ $\\micro$ es la media, y\n",
    "+ $\\sigma$ es la desviación estandard."
   ]
  },
  {
   "cell_type": "code",
   "execution_count": 11,
   "id": "793067a7-1c58-4db9-868c-6671daeb3fbc",
   "metadata": {},
   "outputs": [],
   "source": [
    "mu = []\n",
    "std = []\n",
    "for i in range(0,data.shape[1]-1):\n",
    "\tmu.append(np.mean(data[:,i]))\n",
    "\tstd.append(np.std(data[:, i]))\n",
    "\tdata[:,i] = ((data[:,i] - mu[-1]))/std[-1]\n"
   ]
  },
  {
   "cell_type": "code",
   "execution_count": 12,
   "id": "0a70b16c-b9e6-4008-b3a7-975d2ad31d89",
   "metadata": {},
   "outputs": [
    {
     "data": {
      "text/plain": [
       "array([[-5.01457678e-01, -2.28664780e-01,  3.29900000e+05],\n",
       "       [ 5.05397546e-01, -2.28664780e-01,  3.69000000e+05],\n",
       "       [-7.33034380e-01, -1.54348727e+00,  2.32000000e+05],\n",
       "       [ 1.26053896e+00,  1.08615771e+00,  5.39900000e+05],\n",
       "       [-1.69086013e-02,  1.08615771e+00,  2.99900000e+05],\n",
       "       [-5.84523234e-01, -2.28664780e-01,  3.14900000e+05],\n",
       "       [-7.19190120e-01, -2.28664780e-01,  1.98999000e+05],\n",
       "       [-7.78342865e-01, -2.28664780e-01,  2.12000000e+05],\n",
       "       [-6.34865995e-01, -2.28664780e-01,  2.42500000e+05],\n",
       "       [-7.35442077e-02,  1.08615771e+00,  2.39999000e+05],\n",
       "       [ 1.96993413e-03, -2.28664780e-01,  3.47000000e+05],\n",
       "       [-1.36472659e-01, -2.28664780e-01,  3.29999000e+05],\n",
       "       [ 3.12070399e+00,  2.40098019e+00,  6.99900000e+05],\n",
       "       [-9.19302596e-01, -2.28664780e-01,  2.59900000e+05],\n",
       "       [ 3.79540643e-01,  1.08615771e+00,  4.49900000e+05],\n",
       "       [-8.53857006e-01, -1.54348727e+00,  2.99900000e+05],\n",
       "       [-9.59576805e-01, -2.28664780e-01,  1.99900000e+05],\n",
       "       [ 7.68438474e-01,  1.08615771e+00,  4.99998000e+05],\n",
       "       [ 1.29955460e+00,  1.08615771e+00,  5.99000000e+05],\n",
       "       [-2.91276650e-01, -2.28664780e-01,  2.52900000e+05],\n",
       "       [-1.38989797e-01, -1.54348727e+00,  2.55000000e+05],\n",
       "       [-4.96423402e-01, -2.28664780e-01,  2.42900000e+05],\n",
       "       [-4.58556890e-02,  1.08615771e+00,  2.59900000e+05],\n",
       "       [ 2.38066540e+00, -2.28664780e-01,  5.73900000e+05],\n",
       "       [-1.13074219e+00, -2.28664780e-01,  2.49900000e+05],\n",
       "       [-6.80174480e-01, -2.28664780e-01,  4.64500000e+05],\n",
       "       [ 6.63977244e-01, -2.28664780e-01,  4.69000000e+05],\n",
       "       [ 2.53683740e-01, -2.28664780e-01,  4.75000000e+05],\n",
       "       [ 8.03678406e-01, -2.28664780e-01,  2.99900000e+05],\n",
       "       [-2.00659680e-01, -1.54348727e+00,  3.49900000e+05],\n",
       "       [-1.25659910e+00, -2.85830975e+00,  1.69900000e+05],\n",
       "       [ 5.23126953e-02,  1.08615771e+00,  3.14900000e+05],\n",
       "       [ 1.43296292e+00, -2.28664780e-01,  5.79900000e+05],\n",
       "       [-2.35899613e-01,  1.08615771e+00,  2.85900000e+05],\n",
       "       [-7.06604430e-01, -2.28664780e-01,  2.49900000e+05],\n",
       "       [-9.55801098e-01, -2.28664780e-01,  2.29900000e+05],\n",
       "       [ 1.68101046e-01,  1.08615771e+00,  3.45000000e+05],\n",
       "       [ 2.78970034e+00,  1.08615771e+00,  5.49000000e+05],\n",
       "       [ 2.05858117e-01,  1.08615771e+00,  2.87000000e+05],\n",
       "       [-4.20909260e-01, -1.54348727e+00,  3.68500000e+05],\n",
       "       [ 3.01509363e-01, -2.28664780e-01,  3.29900000e+05],\n",
       "       [ 7.15578574e-01,  1.08615771e+00,  3.14000000e+05],\n",
       "       [-1.00488529e+00, -2.28664780e-01,  2.99000000e+05],\n",
       "       [-1.44286731e+00, -1.54348727e+00,  1.79900000e+05],\n",
       "       [-1.84298282e-01,  1.08615771e+00,  2.99900000e+05],\n",
       "       [-1.00110958e+00, -2.28664780e-01,  2.39500000e+05]])"
      ]
     },
     "execution_count": 12,
     "metadata": {},
     "output_type": "execute_result"
    }
   ],
   "source": [
    "data"
   ]
  },
  {
   "cell_type": "code",
   "execution_count": 13,
   "id": "edcc35b0-a7ef-4fc2-b5ea-7bd6899aa657",
   "metadata": {},
   "outputs": [
    {
     "data": {
      "image/png": "[encoded data removed]",
      "text/plain": [
       "<Figure size 1000x800 with 2 Axes>"
      ]
     },
     "metadata": {},
     "output_type": "display_data"
    }
   ],
   "source": [
    "fig, axes = plt.subplots(nrows=1, ncols=2, figsize=(10,8))\n",
    "axes[0].plot(data[:,0], data[:,-1], 'bo')\n",
    "axes[0].set_xlabel('house size')\n",
    "axes[0].set_ylabel('price')\n",
    "\n",
    "axes[1].plot(data[:,1], data[:,-1], 'bo')\n",
    "axes[1].set_xlabel('rooms')\n",
    "axes[1].set_ylabel('price')\n",
    "plt.show()"
   ]
  },
  {
   "cell_type": "markdown",
   "id": "cbacf25a-beea-4a3b-bb81-05165decc679",
   "metadata": {},
   "source": [
    "Primero, necesitamos definir nuestra función de hipótesis. Usaremos esta función para calcular el costo más adelante. Sabemos que para la regresión lineal, nuestra función de hipótesis se puede generalizar de la siguiente manera:\n",
    "\n",
    "$$ h\\theta(x) = θ_{0} + θ_{1}x_{1} + θ_{2}x_{2} + θ_{3}x_{3} + \\ldots + θ_{n}x_{n} $$\n",
    "\n",
    "Nuestro conjunto de datos, sin embargo, tiene sólo dos características, por lo que para nuestro problema actual, la hipótesis es:\n",
    "\n",
    "$$ h\\theta(x) = θ_{0} + θ_{1}x_{1} + θ_{2}x_{2} $$ \n",
    "\n",
    "Donde $ x_{1} $ y $ x_{2} $ son las dos características (es decir, tamaño de la casa y número de habitaciones)."
   ]
  },
  {
   "cell_type": "code",
   "execution_count": 14,
   "id": "1958fd3e-8a8b-4732-b4b5-006beb08ceaf",
   "metadata": {},
   "outputs": [],
   "source": [
    "def h(x,theta):\n",
    "\treturn np.matmul(x, theta)"
   ]
  },
  {
   "cell_type": "markdown",
   "id": "28ca78a7-b858-4555-b899-f3123a00f07f",
   "metadata": {},
   "source": [
    "$$ J(\\theta_1) = \\frac{1}{2m} \\sum_{i=1}^{m}(h_\\theta(x^{(i)})-y^{(i)})^2 $$"
   ]
  },
  {
   "cell_type": "code",
   "execution_count": 15,
   "id": "4368f0ce-17a7-4d9f-a04a-337420f14af2",
   "metadata": {},
   "outputs": [],
   "source": [
    "def cost_function(x, y, theta):\n",
    "\treturn ((h(x, theta)-y).T@(h(x, theta)-y))/(2*y.shape[0])"
   ]
  },
  {
   "cell_type": "markdown",
   "id": "f69a09d4-fcd4-431f-998c-4d98adc7eacf",
   "metadata": {},
   "source": [
    "$$ {\\theta_j}_{t+1} = {\\theta_j}_t - \\alpha \\frac{\\partial}{\\partial \\theta_j} J(\\theta_0, \\theta_1), j=\\{0,1\\}$$"
   ]
  },
  {
   "cell_type": "markdown",
   "id": "7b8f2633-5cd0-4b8d-81c2-8b7fe3d8f4a7",
   "metadata": {},
   "source": [
    "Entonces, multiplicamos la derivada de la función de costo por la tasa de aprendizaje (α) y la restamos del valor actual ($t$) de los parámetros $θ$ para obtener los nuevos parámetros actualizados ($t+1$). La función `gradient_descent` devuelve `theta` y `J_all`. `theta` es nuestro vector de parámetros, que contiene los valores $θ$ para la hipótesis, y `J_all` es una lista que contiene la función de costo después de cada época. La variable `J_all` no es precisamente esencial, pero ayuda a analizar mejor el modelo."
   ]
  },
  {
   "cell_type": "code",
   "execution_count": 16,
   "id": "78b13972-2257-4e53-aa13-c1b5cab68bed",
   "metadata": {},
   "outputs": [],
   "source": [
    "def gradient_descent(x, y, theta, learning_rate=0.1, num_epochs=10):\n",
    "\tm = x.shape[0]\n",
    "\tJ_all = []\n",
    "\t\n",
    "\tfor _ in range(num_epochs):\n",
    "\t\th_x = h(x, theta)\n",
    "\t\tcost_ = (1/m)*(x.T@(h_x - y))\n",
    "\t\ttheta = theta - (learning_rate)*cost_\n",
    "\t\tJ_all.append(cost_function(x, y, theta))\n",
    "\n",
    "\treturn theta, J_all "
   ]
  },
  {
   "cell_type": "code",
   "execution_count": 17,
   "id": "17f00621-ae13-426c-ab6f-48e12a64f393",
   "metadata": {},
   "outputs": [],
   "source": [
    "def plot_cost(J_all, num_epochs):\n",
    "\tplt.xlabel('Epochs')\n",
    "\tplt.ylabel('Cost')\n",
    "\tplt.plot(num_epochs, J_all, 'm', linewidth = \"5\")\n",
    "\tplt.show()"
   ]
  },
  {
   "cell_type": "code",
   "execution_count": 18,
   "id": "0d5c51f7-f8c8-44cb-b3f5-1706f09870cb",
   "metadata": {},
   "outputs": [],
   "source": [
    "def test(theta, x):\n",
    "\tx[0] = (x[0] - mu[0])/std[0]\n",
    "\tx[1] = (x[1] - mu[1])/std[1]\n",
    "\n",
    "\ty = theta[0] + theta[1]*x[0] + theta[2]*x[1]\n",
    "\tprint(\"Price of house: \", y)"
   ]
  },
  {
   "cell_type": "markdown",
   "id": "8014f7c9-7da0-43c9-abc0-ec5d8bf6bb9d",
   "metadata": {},
   "source": [
    "A lo largo del código hemos estado utilizando la multiplicación de matrices para lograr las expresiones deseadas. Por ejemplo, para obtener la hipótesis, tuvimos que multiplicar cada parámetro $θ$ con cada vector de características (`x`). Podríamos usar ciclos para esto y recorrer cada ejemplo y realizar la multiplicación cada vez; sin embargo, esto no sería lo más método eficiente si tuviéramos, digamos, 10 millones de ejemplos de entrenamiento. Un enfoque más eficiente aquí sería utilizar la multiplicación de matrices. \n",
    "\n",
    "Para nuestro conjunto de datos, tenemos dos características (es decir, el tamaño de la casa y la cantidad de habitaciones), por lo que tendremos (2+1) 3 parámetros. El parámetro adicional $θ_0$ puede explicarse considerando que la hipótesis no es más que una línea en el sentido gráfico."
   ]
  },
  {
   "cell_type": "markdown",
   "id": "473ac40b-9e30-4a27-b992-2d62d043a95e",
   "metadata": {},
   "source": [
    "Bien, entonces tenemos tres parámetros y dos características. Esto significa que nuestro $θ$ o vector de parámetros (matriz 1-D) tendrá las dimensiones (3,1), pero nuestro vector de características tendrá las dimensiones (46,2) (según nuestro conjunto de datos). Multiplicar estas dos matrices no es matemáticamente posible. Observando nuestra hipótesis:\n",
    "\n",
    "$$ h\\theta(x) = θ_{0} + θ_{1}x_{1} + θ_{2}x_{2} $$ "
   ]
  },
  {
   "cell_type": "markdown",
   "id": "9bfbdbae-3d50-4202-8581-7ba77d8b2f2b",
   "metadata": {},
   "source": [
    "Si miras de cerca, es bastante intuitivo que si agregamos una columna adicional de unos al comienzo de nuestro vector de características (`x`) (haciéndolo tener las dimensiones (46, 3)) y si realizamos una multiplicación de matrices en `x` y $θ$ de hecho llegaremos a la ecuación anterior para $hθ(x)$. Si aún no es evidente, intente elaborar un ejemplo en papel.\n",
    "\n",
    "Después de esto, inicializamos nuestro vector theta con ceros. También puedes inicializarlo con algunos pequeños valores aleatorios. También especificamos la tasa de aprendizaje y la cantidad de épocas (una época es la cantidad de veces que el algoritmo recorrerá todo el conjunto de datos) para las que queremos entrenar."
   ]
  },
  {
   "cell_type": "code",
   "execution_count": 24,
   "id": "af1e8ecb-cb39-457c-95f7-29a2de3dd538",
   "metadata": {},
   "outputs": [],
   "source": [
    "x = data[:,:2]\n",
    "y = data[:, -1]\n",
    "\n",
    "x = np.hstack((np.ones((x.shape[0],1)), x))\n",
    "y = np.reshape(y, (46,1))\n",
    "\n",
    "theta = np.zeros((x.shape[1], 1))\n",
    "learning_rate = 0.1\n",
    "num_epochs = 50"
   ]
  },
  {
   "cell_type": "markdown",
   "id": "0aa1fb3a-3a3c-400e-aec3-1a82241d124c",
   "metadata": {},
   "source": [
    "Una vez que tenemos todos nuestros hiperparámetros definidos, llamamos a la función de descenso de gradiente, que devuelve un historial de todas las funciones de costos y el vector final de parámetros $θ$. Este vector theta es esencialmente lo que define nuestra hipótesis final. Puede observar que la forma del vector theta devuelto por la función de descenso de gradiente tiene las dimensiones (3,1)."
   ]
  },
  {
   "cell_type": "code",
   "execution_count": 24,
   "id": "16699951-4115-4a7a-8eaf-11a2515333ec",
   "metadata": {},
   "outputs": [],
   "source": [
    "theta, J_all = gradient_descent(x, y, theta, learning_rate, num_epochs)"
   ]
  },
  {
   "cell_type": "markdown",
   "id": "47ff8b51-5bc2-4215-a2dd-92865a26384e",
   "metadata": {},
   "source": [
    "Si recordamos nuestra hipótesis:\n",
    "\n",
    "$$ h\\theta(x) = θ_{0} + θ_{1}x_{1} + θ_{2}x_{2} $$ \n",
    "\n",
    "necesitábamos tres $θ$ y nuestro vector $θ$ tiene las dimensiones (3,1); por lo tanto, cada uno de `theta[0]`, `theta[1]` y `theta[2]` es, de hecho, $θ_0$, $θ_1$ y $θ_2$ respectivamente. La variable `J_all` no es más que el historial de todas las funciones de costos. Puede imprimir la matriz `J_all` para ver cómo la función de costo disminuye progresivamente para cada época de descenso del gradiente."
   ]
  },
  {
   "cell_type": "code",
   "execution_count": 27,
   "id": "0ca690ca-1d0f-46cd-8d05-84e397a168e8",
   "metadata": {},
   "outputs": [
    {
     "name": "stdout",
     "output_type": "stream",
     "text": [
      "Cost:  2084753114.7399435\n",
      "Parameters:\n",
      "  [[ 3.37371711e+05]\n",
      " [ 1.04066024e+05]\n",
      " [-6.47874139e+01]]\n"
     ]
    }
   ],
   "source": [
    "J = cost_function(x, y, theta)\n",
    "print(\"Cost: \", J[0,0])\n",
    "print(\"Parameters:\\n \", theta)"
   ]
  },
  {
   "cell_type": "code",
   "execution_count": 28,
   "id": "eaa2e43f-ad41-472d-b166-96de5c173180",
   "metadata": {},
   "outputs": [
    {
     "data": {
      "image/png": "[encoded data removed]",
      "text/plain": [
       "<Figure size 640x480 with 1 Axes>"
      ]
     },
     "metadata": {},
     "output_type": "display_data"
    }
   ],
   "source": [
    "#for testing and plotting cost \n",
    "n_epochs = []\n",
    "jplot = []\n",
    "count = 0\n",
    "for i in J_all:\n",
    "\tjplot.append(i[0][0])\n",
    "\tn_epochs.append(count)\n",
    "\tcount += 1\n",
    "jplot = np.array(jplot)\n",
    "n_epochs = np.array(n_epochs)\n",
    "plot_cost(jplot, n_epochs)"
   ]
  },
  {
   "cell_type": "code",
   "execution_count": 29,
   "id": "a1331568-bd3f-4274-b579-dcadc98aacf2",
   "metadata": {},
   "outputs": [
    {
     "name": "stdout",
     "output_type": "stream",
     "text": [
      "Price of house:  [285201.81900083]\n"
     ]
    }
   ],
   "source": [
    "test(theta, [1600, 3])"
   ]
  },
  {
   "cell_type": "markdown",
   "id": "2fa7a512-9afe-48e7-b27f-192fbfaaf260",
   "metadata": {},
   "source": [
    "# Referencias\n",
    "\n",
    "1. Kumud Lakara, \"_Basics and Beyond: Linear Regression_\", **towardsdatascience.com**,_web_. Published:  2020.12.26; visited: 2024.02.24. URL: [https://medium.com/analytics-vidhya/basics-and-beyond-linear-regression-c12d99a4df35](https://medium.com/analytics-vidhya/basics-and-beyond-linear-regression-c12d99a4df35)\n",
    "2. Kumud Lakara, \"_Coding Linear Regression from Scratch_\", **towardsdatascience.com**,_web_. Published:  2021.01.05; visited: 2024.02.22. URL: [https://towardsdatascience.com/coding-linear-regression-from-scratch-c42ec079902](https://towardsdatascience.com/coding-linear-regression-from-scratch-c42ec079902)"
   ]
  }
 ],
 "metadata": {
  "kernelspec": {
   "display_name": "Python 3 (ipykernel)",
   "language": "python",
   "name": "python3"
  },
  "language_info": {
   "codemirror_mode": {
    "name": "ipython",
    "version": 3
   },
   "file_extension": ".py",
   "mimetype": "text/x-python",
   "name": "python",
   "nbconvert_exporter": "python",
   "pygments_lexer": "ipython3",
   "version": "3.10.12"
  }
 },
 "nbformat": 4,
 "nbformat_minor": 5
}
