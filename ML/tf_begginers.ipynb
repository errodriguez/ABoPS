{
 "cells": [
  {
   "cell_type": "code",
   "execution_count": 16,
   "id": "556ad5cf-3fd4-4895-b397-d1dec60f4f3e",
   "metadata": {},
   "outputs": [],
   "source": [
    "!pip install tensorflow --quiet"
   ]
  },
  {
   "cell_type": "code",
   "execution_count": 4,
   "id": "b8427c08-7d51-41f6-975f-c59fa83fd12c",
   "metadata": {},
   "outputs": [
    {
     "name": "stdout",
     "output_type": "stream",
     "text": [
      "TensorFlow version: 2.13.0\n"
     ]
    }
   ],
   "source": [
    "import tensorflow as tf\n",
    "print (\"TensorFlow version:\", tf.__version__)"
   ]
  },
  {
   "cell_type": "code",
   "execution_count": 5,
   "id": "1cb35a93-539c-4f8c-bbf5-93fa678e55d3",
   "metadata": {},
   "outputs": [
    {
     "name": "stdout",
     "output_type": "stream",
     "text": [
      "Downloading data from https://storage.googleapis.com/tensorflow/tf-keras-datasets/mnist.npz\n",
      "11490434/11490434 [==============================] - 1s 0us/step\n"
     ]
    }
   ],
   "source": [
    "mnist = tf.keras.datasets.mnist\n",
    "\n",
    "(x_train, y_train), (x_test, y_test) = mnist.load_data()\n",
    "x_train, x_test = x_train / 255.0, x_test / 255.0"
   ]
  },
  {
   "cell_type": "code",
   "execution_count": 6,
   "id": "d4b9a924-6120-4130-a0fb-7e2b0de77c79",
   "metadata": {},
   "outputs": [],
   "source": [
    "model = tf.keras.models.Sequential([\n",
    "  tf.keras.layers.Flatten(input_shape=(28, 28)),\n",
    "  tf.keras.layers.Dense(128, activation='relu'),\n",
    "  tf.keras.layers.Dropout(0.2),\n",
    "  tf.keras.layers.Dense(10)\n",
    "])"
   ]
  },
  {
   "cell_type": "code",
   "execution_count": 7,
   "id": "8f29c95e-5b15-48f3-b8ba-2184d9f07f3d",
   "metadata": {},
   "outputs": [
    {
     "data": {
      "text/plain": [
       "array([[ 0.21188289,  0.41282597,  0.0800742 , -0.00762454,  0.20211409,\n",
       "         0.6786971 ,  0.31276125, -0.6665114 ,  0.10731043,  0.12743461]],\n",
       "      dtype=float32)"
      ]
     },
     "execution_count": 7,
     "metadata": {},
     "output_type": "execute_result"
    }
   ],
   "source": [
    "predictions = model(x_train[:1]).numpy()\n",
    "predictions"
   ]
  },
  {
   "cell_type": "code",
   "execution_count": 8,
   "id": "a78b8d3c-8f9e-4c05-b43a-85f4e8abdd69",
   "metadata": {},
   "outputs": [
    {
     "data": {
      "text/plain": [
       "array([[0.10174511, 0.12438902, 0.08918048, 0.08169261, 0.10075603,\n",
       "        0.16227381, 0.11254457, 0.04226996, 0.0916428 , 0.09350572]],\n",
       "      dtype=float32)"
      ]
     },
     "execution_count": 8,
     "metadata": {},
     "output_type": "execute_result"
    }
   ],
   "source": [
    "tf.nn.softmax(predictions).numpy()"
   ]
  },
  {
   "cell_type": "code",
   "execution_count": 9,
   "id": "dd855c5d-8826-4e3f-9a3d-0d9860ed0a19",
   "metadata": {},
   "outputs": [],
   "source": [
    "loss_fn = tf.keras.losses.SparseCategoricalCrossentropy(from_logits=True)"
   ]
  },
  {
   "cell_type": "code",
   "execution_count": 10,
   "id": "21c9adbe-0a50-4db5-bcc1-db6b105e1000",
   "metadata": {},
   "outputs": [
    {
     "data": {
      "text/plain": [
       "1.8184702"
      ]
     },
     "execution_count": 10,
     "metadata": {},
     "output_type": "execute_result"
    }
   ],
   "source": [
    "loss_fn(y_train[:1], predictions).numpy()"
   ]
  },
  {
   "cell_type": "code",
   "execution_count": 11,
   "id": "a0c4d69f-3b3b-4e3e-b728-b8a813339423",
   "metadata": {},
   "outputs": [],
   "source": [
    "model.compile(optimizer='adam',\n",
    "              loss=loss_fn,\n",
    "              metrics=['accuracy'])"
   ]
  },
  {
   "cell_type": "code",
   "execution_count": 12,
   "id": "31b6964f-ea2e-40c6-936d-f9f9f2569faf",
   "metadata": {},
   "outputs": [
    {
     "name": "stdout",
     "output_type": "stream",
     "text": [
      "Epoch 1/5\n",
      "1875/1875 [==============================] - 1s 602us/step - loss: 0.2939 - accuracy: 0.9147\n",
      "Epoch 2/5\n",
      "1875/1875 [==============================] - 1s 554us/step - loss: 0.1397 - accuracy: 0.9589\n",
      "Epoch 3/5\n",
      "1875/1875 [==============================] - 1s 560us/step - loss: 0.1051 - accuracy: 0.9686\n",
      "Epoch 4/5\n",
      "1875/1875 [==============================] - 1s 563us/step - loss: 0.0851 - accuracy: 0.9741\n",
      "Epoch 5/5\n",
      "1875/1875 [==============================] - 1s 554us/step - loss: 0.0721 - accuracy: 0.9777\n"
     ]
    },
    {
     "data": {
      "text/plain": [
       "<keras.src.callbacks.History at 0x287aa6f90>"
      ]
     },
     "execution_count": 12,
     "metadata": {},
     "output_type": "execute_result"
    }
   ],
   "source": [
    "model.fit(x_train, y_train, epochs=5)"
   ]
  },
  {
   "cell_type": "code",
   "execution_count": 13,
   "id": "10e56f16-e764-4e9f-84d1-b8f47209888b",
   "metadata": {},
   "outputs": [
    {
     "name": "stdout",
     "output_type": "stream",
     "text": [
      "313/313 - 0s - loss: 0.0772 - accuracy: 0.9762 - 159ms/epoch - 509us/step\n"
     ]
    },
    {
     "data": {
      "text/plain": [
       "[0.07719089090824127, 0.9761999845504761]"
      ]
     },
     "execution_count": 13,
     "metadata": {},
     "output_type": "execute_result"
    }
   ],
   "source": [
    "model.evaluate(x_test,  y_test, verbose=2)"
   ]
  },
  {
   "cell_type": "code",
   "execution_count": 14,
   "id": "192c867c-bb52-4b97-b23d-3b6e60cb332a",
   "metadata": {},
   "outputs": [],
   "source": [
    "probability_model = tf.keras.Sequential([\n",
    "  model,\n",
    "  tf.keras.layers.Softmax()\n",
    "])"
   ]
  },
  {
   "cell_type": "code",
   "execution_count": 15,
   "id": "108134ab-9776-4d7a-a169-c3c594013209",
   "metadata": {},
   "outputs": [
    {
     "data": {
      "text/plain": [
       "<tf.Tensor: shape=(5, 10), dtype=float32, numpy=\n",
       "array([[6.63820714e-08, 8.33675184e-10, 2.38912116e-06, 1.05199913e-04,\n",
       "        9.42972003e-12, 3.51109264e-07, 1.41383744e-13, 9.99890208e-01,\n",
       "        1.57697423e-06, 1.16074084e-07],\n",
       "       [4.80029598e-07, 1.62736664e-03, 9.98322427e-01, 2.31142840e-05,\n",
       "        1.11169408e-13, 3.16277671e-08, 3.91041262e-08, 1.82805038e-11,\n",
       "        2.65197705e-05, 1.05448452e-12],\n",
       "       [2.67907694e-07, 9.98883188e-01, 1.74609988e-04, 3.99070523e-05,\n",
       "        1.70910753e-05, 9.16718363e-07, 2.59902504e-06, 3.77386401e-04,\n",
       "        5.03319083e-04, 6.41388851e-07],\n",
       "       [9.99533892e-01, 7.84289398e-07, 2.82455167e-05, 1.42840418e-06,\n",
       "        1.97733480e-05, 1.59857009e-04, 2.06819052e-04, 3.96096329e-05,\n",
       "        2.90056391e-06, 6.71506223e-06],\n",
       "       [1.84491432e-06, 6.10978219e-08, 1.40228394e-05, 8.22275510e-08,\n",
       "        9.95061338e-01, 3.69627924e-06, 3.25919086e-06, 1.83942611e-04,\n",
       "        8.56111967e-07, 4.73077735e-03]], dtype=float32)>"
      ]
     },
     "execution_count": 15,
     "metadata": {},
     "output_type": "execute_result"
    }
   ],
   "source": [
    "probability_model(x_test[:5])"
   ]
  },
  {
   "cell_type": "markdown",
   "id": "93cfc2f3-79aa-451b-af9b-5fefe550f66e",
   "metadata": {},
   "source": [
    "URL: https://www.tensorflow.org/tutorials/quickstart/beginner"
   ]
  }
 ],
 "metadata": {
  "kernelspec": {
   "display_name": "Python 3 (ipykernel)",
   "language": "python",
   "name": "python3"
  },
  "language_info": {
   "codemirror_mode": {
    "name": "ipython",
    "version": 3
   },
   "file_extension": ".py",
   "mimetype": "text/x-python",
   "name": "python",
   "nbconvert_exporter": "python",
   "pygments_lexer": "ipython3",
   "version": "3.11.4"
  }
 },
 "nbformat": 4,
 "nbformat_minor": 5
}
