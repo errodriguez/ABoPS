{
 "cells": [
  {
   "cell_type": "markdown",
   "id": "42d5340a-e694-4689-9d99-3cc372c70861",
   "metadata": {},
   "source": [
    " # Sets"
   ]
  },
  {
   "cell_type": "markdown",
   "id": "4733806b-3ea1-4df1-a0ad-1c95c7cc1a95",
   "metadata": {},
   "source": [
    "Write a function in python that, given an array A of N integers, returns the smallest positive integer (greater than 0) that does not occur in A.\n",
    "\n",
    "For example:\n",
    "+ given A = [1, 3, 6, 4, 1, 2], the function should return 5.\n",
    "+ Given A = [1, 2, 3], the function should return 4.\n",
    "+ Given A = [-1, -3], the function should return 1.\n",
    "\n",
    "Write an efficient algorithm for the following assumptions:\n",
    "+ N is an integer within the range [1, 100000];\n",
    "+ Each element of array A is an integer within the range [-1,000,000...1,000,000]."
   ]
  },
  {
   "cell_type": "code",
   "execution_count": 1,
   "id": "5321d800-b9d6-4bc1-ab4d-f0f7e788024c",
   "metadata": {},
   "outputs": [],
   "source": [
    "def solution01(arr):\n",
    "    mx = 1000000\n",
    "    mn = 1\n",
    "    rng = range(mn,mx)\n",
    "    miss = set(rng).difference(set(arr))\n",
    "    return min(miss)"
   ]
  },
  {
   "cell_type": "code",
   "execution_count": 2,
   "id": "f34b1663-533a-4a01-94c2-289b3a4029bd",
   "metadata": {},
   "outputs": [
    {
     "data": {
      "text/plain": [
       "5"
      ]
     },
     "execution_count": 2,
     "metadata": {},
     "output_type": "execute_result"
    }
   ],
   "source": [
    "solution01([1,3,4,4,1,2])"
   ]
  },
  {
   "cell_type": "code",
   "execution_count": 3,
   "id": "bf162edc-bc40-42a5-bb25-0ce15876b8b7",
   "metadata": {},
   "outputs": [
    {
     "data": {
      "text/plain": [
       "5"
      ]
     },
     "execution_count": 3,
     "metadata": {},
     "output_type": "execute_result"
    }
   ],
   "source": [
    "solution01([1,3,6,4,1,2])"
   ]
  },
  {
   "cell_type": "code",
   "execution_count": 4,
   "id": "4461ec2d-344d-4dc1-ae00-069ea82d00f2",
   "metadata": {},
   "outputs": [
    {
     "data": {
      "text/plain": [
       "4"
      ]
     },
     "execution_count": 4,
     "metadata": {},
     "output_type": "execute_result"
    }
   ],
   "source": [
    "solution01([1,2,3])"
   ]
  },
  {
   "cell_type": "code",
   "execution_count": 5,
   "id": "04e44cdf-ceed-4a34-9a5b-e0845be371f6",
   "metadata": {},
   "outputs": [
    {
     "data": {
      "text/plain": [
       "1"
      ]
     },
     "execution_count": 5,
     "metadata": {},
     "output_type": "execute_result"
    }
   ],
   "source": [
    "solution01([-1,-3])"
   ]
  },
  {
   "cell_type": "markdown",
   "id": "9fa7f64e-d0f0-46e3-a77b-11f1254f4204",
   "metadata": {},
   "source": []
  },
  {
   "cell_type": "code",
   "execution_count": null,
   "id": "2c51c5b6-f0cb-4194-bad6-5de8604da2ae",
   "metadata": {},
   "outputs": [],
   "source": []
  }
 ],
 "metadata": {
  "kernelspec": {
   "display_name": "Python 3 (ipykernel)",
   "language": "python",
   "name": "python3"
  },
  "language_info": {
   "codemirror_mode": {
    "name": "ipython",
    "version": 3
   },
   "file_extension": ".py",
   "mimetype": "text/x-python",
   "name": "python",
   "nbconvert_exporter": "python",
   "pygments_lexer": "ipython3",
   "version": "3.11.7"
  }
 },
 "nbformat": 4,
 "nbformat_minor": 5
}
