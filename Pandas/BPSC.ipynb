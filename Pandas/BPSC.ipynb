{
 "cells": [
  {
   "cell_type": "markdown",
   "id": "d4007cbf-bfb2-486f-8f08-7e7cf0b494e8",
   "metadata": {},
   "source": [
    "# Bilingual Pandas Series cookbook | Recetario Bilingüe para problemas con Pandas\n",
    "\n",
    "Dr. Eduardo René Rodríguez Ávila, 2023"
   ]
  },
  {
   "cell_type": "markdown",
   "id": "bacade16-5905-4bef-b8bc-2c4a79186122",
   "metadata": {},
   "source": [
    "These are some quick examples using Series from Python Pandas library.\n",
    "\n",
    "Estos son algunos ejemplos rápidos en el uso de Series de la biblioteca de Python Pandas."
   ]
  },
  {
   "cell_type": "markdown",
   "id": "e912216d-9efb-417c-a9de-83d186e8dfe5",
   "metadata": {},
   "source": [
    "# Series"
   ]
  },
  {
   "cell_type": "markdown",
   "id": "df5c26f7-5a24-4a01-83e3-7747f20aa1a9",
   "metadata": {},
   "source": [
    "## Searching for patterns | Buscando patrones"
   ]
  },
  {
   "cell_type": "markdown",
   "id": "7dcc2a37-fa1e-4b51-ac46-0e26209381e5",
   "metadata": {},
   "source": [
    "## Contains"
   ]
  },
  {
   "cell_type": "code",
   "execution_count": 2,
   "id": "81873b7f-73aa-441a-aee5-75ded1a68ede",
   "metadata": {},
   "outputs": [
    {
     "name": "stdout",
     "output_type": "stream",
     "text": [
      "City 1    False\n",
      "City 2     True\n",
      "City 3    False\n",
      "City 4     True\n",
      "City 5    False\n",
      "dtype: bool\n"
     ]
    }
   ],
   "source": [
    "import pandas as pd\n",
    "sr = pd.Series(['New_York', 'Lisbon', 'Texas', 'Paris', 'California'])\n",
    "idx = ['City 1', 'City 2', 'City 3', 'City 4', 'City 5']\n",
    "sr.index = idx\n",
    "result = sr.str.contains(pat = 'is')\n",
    "print(result)"
   ]
  },
  {
   "cell_type": "markdown",
   "id": "ac8b997e-c980-46ab-8475-8101bd503a64",
   "metadata": {},
   "source": [
    "# DataFrames"
   ]
  },
  {
   "cell_type": "markdown",
   "id": "bb424883-d8d1-4795-9926-9d6110af3460",
   "metadata": {},
   "source": [
    "# Columns"
   ]
  },
  {
   "cell_type": "markdown",
   "id": "efc5dbb3-e429-4f55-9cc0-2532f7cb362e",
   "metadata": {},
   "source": [
    "Cambiando los nombres de las columnas."
   ]
  },
  {
   "cell_type": "raw",
   "id": "927a8ac5-df1a-44bc-bf7e-2d5516347316",
   "metadata": {},
   "source": [
    "To be edited"
   ]
  },
  {
   "cell_type": "code",
   "execution_count": null,
   "id": "d91c798c-6d6b-44d0-acbb-694e3240d33c",
   "metadata": {},
   "outputs": [],
   "source": [
    "data.columns = map(str.lower, data.columns)"
   ]
  },
  {
   "cell_type": "code",
   "execution_count": null,
   "id": "68116fd8-7e2c-4e66-93a9-1afddd6d155c",
   "metadata": {},
   "outputs": [],
   "source": [
    "data.columns = [x.lower() for x in data.columns]"
   ]
  },
  {
   "cell_type": "code",
   "execution_count": null,
   "id": "0f61fd8b-4095-4c25-826b-e2681261d3ce",
   "metadata": {},
   "outputs": [],
   "source": [
    "df.columns = df.columns.str.lower()"
   ]
  },
  {
   "cell_type": "code",
   "execution_count": null,
   "id": "5825dc42-a62c-49ab-b2d8-ead03392fc66",
   "metadata": {},
   "outputs": [],
   "source": [
    "data.rename(columns=str.lower)"
   ]
  },
  {
   "cell_type": "code",
   "execution_count": null,
   "id": "c95b1497-9a00-4aa7-9ace-c2f9f63a7b8d",
   "metadata": {},
   "outputs": [],
   "source": [
    "data.rename(columns=str.lower, inplace=True)"
   ]
  },
  {
   "cell_type": "code",
   "execution_count": null,
   "id": "e122479e-3236-4108-a464-e8565a9d7bbf",
   "metadata": {},
   "outputs": [],
   "source": [
    "df.columns = [str(x).lower() for x in df.columns]"
   ]
  },
  {
   "cell_type": "code",
   "execution_count": null,
   "id": "6f9b7ced-9732-4b0a-b80f-82e3e91f0711",
   "metadata": {},
   "outputs": [],
   "source": [
    "def rename_col(old_name):\n",
    "    return str(old_name).lower()\n",
    "\n",
    "df.rename(rename_col)"
   ]
  },
  {
   "cell_type": "code",
   "execution_count": null,
   "id": "4e121d5f-9fd2-4f91-8f23-94d832240b99",
   "metadata": {},
   "outputs": [],
   "source": [
    "df.columns.astype(str).str.lower()"
   ]
  },
  {
   "cell_type": "code",
   "execution_count": null,
   "id": "6c56ba15-1b5e-4a37-86d7-eae171b628b6",
   "metadata": {},
   "outputs": [],
   "source": [
    "rame.rename(columns=str.lower, inplace=True)"
   ]
  },
  {
   "cell_type": "code",
   "execution_count": null,
   "id": "ea49edf3-e86e-43b6-8b76-6497ffe3dc28",
   "metadata": {},
   "outputs": [],
   "source": [
    "frame.rename(mapper=lambda x:x.lower(), axis='columns', inplace=True)"
   ]
  }
 ],
 "metadata": {
  "kernelspec": {
   "display_name": "Python 3 (ipykernel)",
   "language": "python",
   "name": "python3"
  },
  "language_info": {
   "codemirror_mode": {
    "name": "ipython",
    "version": 3
   },
   "file_extension": ".py",
   "mimetype": "text/x-python",
   "name": "python",
   "nbconvert_exporter": "python",
   "pygments_lexer": "ipython3",
   "version": "3.12.4"
  }
 },
 "nbformat": 4,
 "nbformat_minor": 5
}
