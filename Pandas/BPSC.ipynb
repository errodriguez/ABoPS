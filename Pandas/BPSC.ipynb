{
 "cells": [
  {
   "cell_type": "markdown",
   "id": "d4007cbf-bfb2-486f-8f08-7e7cf0b494e8",
   "metadata": {},
   "source": [
    "# Bilingual Pandas Series cookbook | Recetario Bilingüe para problemas con Pandas\n",
    "\n",
    "Dr. Eduardo René Rodríguez Ávila, 2023"
   ]
  },
  {
   "cell_type": "markdown",
   "id": "bacade16-5905-4bef-b8bc-2c4a79186122",
   "metadata": {},
   "source": [
    "These are some quick examples using Series from Python Pandas library.\n",
    "\n",
    "Estos son algunos ejemplos rápidos en el uso de Series de la biblioteca de Python Pandas."
   ]
  },
  {
   "cell_type": "markdown",
   "id": "df5c26f7-5a24-4a01-83e3-7747f20aa1a9",
   "metadata": {},
   "source": [
    "# Searching for patterns | Buscando patrones"
   ]
  },
  {
   "cell_type": "markdown",
   "id": "7dcc2a37-fa1e-4b51-ac46-0e26209381e5",
   "metadata": {},
   "source": [
    "## Contains"
   ]
  },
  {
   "cell_type": "code",
   "execution_count": 2,
   "id": "81873b7f-73aa-441a-aee5-75ded1a68ede",
   "metadata": {},
   "outputs": [
    {
     "name": "stdout",
     "output_type": "stream",
     "text": [
      "City 1    False\n",
      "City 2     True\n",
      "City 3    False\n",
      "City 4     True\n",
      "City 5    False\n",
      "dtype: bool\n"
     ]
    }
   ],
   "source": [
    "import pandas as pd\n",
    "sr = pd.Series(['New_York', 'Lisbon', 'Texas', 'Paris', 'California'])\n",
    "idx = ['City 1', 'City 2', 'City 3', 'City 4', 'City 5']\n",
    "sr.index = idx\n",
    "result = sr.str.contains(pat = 'is')\n",
    "print(result)"
   ]
  },
  {
   "cell_type": "code",
   "execution_count": null,
   "id": "12607858-a6db-4932-946c-716c28150435",
   "metadata": {},
   "outputs": [],
   "source": []
  }
 ],
 "metadata": {
  "kernelspec": {
   "display_name": "Python 3 (ipykernel)",
   "language": "python",
   "name": "python3"
  },
  "language_info": {
   "codemirror_mode": {
    "name": "ipython",
    "version": 3
   },
   "file_extension": ".py",
   "mimetype": "text/x-python",
   "name": "python",
   "nbconvert_exporter": "python",
   "pygments_lexer": "ipython3",
   "version": "3.10.11"
  }
 },
 "nbformat": 4,
 "nbformat_minor": 5
}
