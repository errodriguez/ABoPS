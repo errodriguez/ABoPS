{
 "cells": [
  {
   "cell_type": "code",
   "execution_count": 2,
   "id": "8c9f455c-fc3a-4b1a-8b17-facb7b4ea562",
   "metadata": {},
   "outputs": [],
   "source": [
    "def minimumBribes(q):\n",
    "    bribes = 0\n",
    "    for i in range(len(q)-1,0,-1):\n",
    "        if q[i] != i+1:\n",
    "            if q[i-1] == i+1:\n",
    "                bribes += 1\n",
    "                q[i-1], q[i] = q[i], q[i-1]\n",
    "            elif q[i-2] == i+1:\n",
    "                bribes += 2\n",
    "                q[i-2], q[i-1], q[i] = q[i-1], q[i], q[i-2]\n",
    "            else:\n",
    "                print('Too chaotic')\n",
    "                return\n",
    "    print(bribes)"
   ]
  },
  {
   "cell_type": "code",
   "execution_count": 4,
   "id": "8ddef05c-7e06-4135-b09d-50e62cb3ca38",
   "metadata": {},
   "outputs": [
    {
     "name": "stdout",
     "output_type": "stream",
     "text": [
      "3\n"
     ]
    }
   ],
   "source": [
    "minimumBribes([2, 1, 5, 3, 4])"
   ]
  },
  {
   "cell_type": "code",
   "execution_count": 5,
   "id": "00fc12b6-859e-4a17-a0f3-49ea81ee0d5c",
   "metadata": {},
   "outputs": [
    {
     "name": "stdout",
     "output_type": "stream",
     "text": [
      "Too chaotic\n"
     ]
    }
   ],
   "source": [
    "minimumBribes([2, 5, 1, 3, 4])"
   ]
  }
 ],
 "metadata": {
  "kernelspec": {
   "display_name": "Python 3 (ipykernel)",
   "language": "python",
   "name": "python3"
  },
  "language_info": {
   "codemirror_mode": {
    "name": "ipython",
    "version": 3
   },
   "file_extension": ".py",
   "mimetype": "text/x-python",
   "name": "python",
   "nbconvert_exporter": "python",
   "pygments_lexer": "ipython3",
   "version": "3.11.4"
  }
 },
 "nbformat": 4,
 "nbformat_minor": 5
}
