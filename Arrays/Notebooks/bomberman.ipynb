{
 "cells": [
  {
   "cell_type": "code",
   "execution_count": 1,
   "id": "98e12496-e825-4444-a51a-756b734f8108",
   "metadata": {},
   "outputs": [],
   "source": [
    "r = 6\n",
    "c = 7\n",
    "n = 3\n",
    "grid = [\n",
    "        '.......',\n",
    "        '...O...',\n",
    "        '....O..',\n",
    "        '.......',\n",
    "        'OO.....',\n",
    "        'OO.....'\n",
    "       ]"
   ]
  },
  {
   "cell_type": "code",
   "execution_count": 10,
   "id": "88e0bdf0-5ce1-4c9f-9f85-3086704d0374",
   "metadata": {},
   "outputs": [
    {
     "ename": "SyntaxError",
     "evalue": "did you forget parentheses around the comprehension target? (2984970909.py, line 25)",
     "output_type": "error",
     "traceback": [
      "\u001b[0;36m  Cell \u001b[0;32mIn[10], line 25\u001b[0;36m\u001b[0m\n\u001b[0;31m    explosion = { (i+1,j), (i-1,j), (i,j), (i,j-1), (i,j+1) for i,j in p }\u001b[0m\n\u001b[0m                  ^\u001b[0m\n\u001b[0;31mSyntaxError\u001b[0m\u001b[0;31m:\u001b[0m did you forget parentheses around the comprehension target?\n"
     ]
    }
   ],
   "source": [
    "def bomberMan(n: str, grid: list) -> list: \n",
    "    def printGrid():\n",
    "        for row in grid:\n",
    "            for col in row:\n",
    "                print(col, end=\"\")\n",
    "            print()\n",
    "\n",
    "    def scanGrid(c: char):\n",
    "        free = {}\n",
    "        bombs = {}\n",
    "        coords = {}\n",
    "        for i in range(len(grid)):\n",
    "            for j in range(len(grid[i])):\n",
    "                coords.add((i,j))\n",
    "                if grid[i][j]=='.':\n",
    "                    free.add((i,j))\n",
    "                else:\n",
    "                    bombs.add((i,j))\n",
    "\n",
    "        return free, bombs, coords\n",
    "\n",
    "    def boom(bombs, free, coords):\n",
    "        exploding = {}\n",
    "        for i,j in bombs:\n",
    "            explosion = { (i-1,j), (i+1,j), (i,j), (i,j-1), (i,j+1) }\n",
    "            bombs -= explosion\n",
    "            free += coords.intersection(explosion)\n",
    "\n",
    "    def mining(free):\n",
    "        \n",
    "            \n",
    "            \n",
    "        \n",
    "\n",
    "\n",
    "    # printGrid()\n",
    "    # print(scanGrid('.'))\n",
    "    # print(scanGrid('O'))\n",
    "    # print()\n",
    "    # return grid"
   ]
  },
  {
   "cell_type": "code",
   "execution_count": null,
   "id": "50d1fff0-5742-4702-98c3-a54f92258ca6",
   "metadata": {},
   "outputs": [],
   "source": []
  },
  {
   "cell_type": "code",
   "execution_count": 17,
   "id": "c13ebac1-fbf0-48f4-97e3-36d03d13daf1",
   "metadata": {},
   "outputs": [
    {
     "name": "stdout",
     "output_type": "stream",
     "text": [
      ".......\n",
      "...O...\n",
      "....O..\n",
      ".......\n",
      "OO.....\n",
      "OO.....\n",
      "{(3, 4), (4, 3), (3, 1), (5, 4), (4, 6), (0, 2), (0, 5), (2, 2), (1, 0), (1, 6), (2, 5), (4, 2), (3, 0), (4, 5), (3, 3), (5, 6), (3, 6), (5, 3), (0, 1), (1, 2), (0, 4), (2, 1), (1, 5), (3, 2), (3, 5), (5, 2), (4, 4), (5, 5), (0, 0), (1, 1), (0, 3), (2, 0), (1, 4), (0, 6), (2, 3), (2, 6)}\n",
      "{(2, 4), (4, 0), (4, 1), (5, 1), (5, 0), (1, 3)}\n",
      "\n",
      ".......\n",
      "...O...\n",
      "....O..\n",
      ".......\n",
      "OO.....\n",
      "OO.....\n"
     ]
    }
   ],
   "source": [
    "print('\\n'.join(bomberMan(n, grid)))"
   ]
  },
  {
   "cell_type": "code",
   "execution_count": 18,
   "id": "b40b8d85-2f3b-4e1e-a67b-05201e0c09a6",
   "metadata": {},
   "outputs": [],
   "source": [
    "p = (1,2)"
   ]
  },
  {
   "cell_type": "code",
   "execution_count": 19,
   "id": "42310806-cea7-4eb6-8fca-c8c2241f091d",
   "metadata": {},
   "outputs": [
    {
     "data": {
      "text/plain": [
       "1"
      ]
     },
     "execution_count": 19,
     "metadata": {},
     "output_type": "execute_result"
    }
   ],
   "source": [
    "p[0]"
   ]
  },
  {
   "cell_type": "code",
   "execution_count": 21,
   "id": "061a0995-b944-4ef1-a8f8-26e9370c0972",
   "metadata": {},
   "outputs": [
    {
     "data": {
      "text/plain": [
       "2"
      ]
     },
     "execution_count": 21,
     "metadata": {},
     "output_type": "execute_result"
    }
   ],
   "source": [
    "p[1]"
   ]
  },
  {
   "cell_type": "code",
   "execution_count": 23,
   "id": "cc06591c-032b-41bd-b741-58c12596a538",
   "metadata": {},
   "outputs": [],
   "source": [
    "s = { (0,0), (0,1), (0,2)}\n",
    "b = { (0,1) }"
   ]
  },
  {
   "cell_type": "code",
   "execution_count": 13,
   "id": "518b9473-fdfb-4be7-8c7f-da85c7986173",
   "metadata": {},
   "outputs": [
    {
     "name": "stdout",
     "output_type": "stream",
     "text": [
      "0 1\n",
      "0 2\n",
      "0 0\n"
     ]
    }
   ],
   "source": [
    "for i,j in s:\n",
    "    print(i,j)"
   ]
  },
  {
   "cell_type": "code",
   "execution_count": 17,
   "id": "a68157be-7e3a-4874-8393-d62f414724be",
   "metadata": {},
   "outputs": [],
   "source": [
    "s.intersection_update({(1,0), (1,1)})"
   ]
  },
  {
   "cell_type": "code",
   "execution_count": 20,
   "id": "abd7eb3a-ec92-4629-9592-933b28a15013",
   "metadata": {},
   "outputs": [
    {
     "data": {
      "text/plain": [
       "{(0, 0), (0, 2)}"
      ]
     },
     "execution_count": 20,
     "metadata": {},
     "output_type": "execute_result"
    }
   ],
   "source": [
    "s - b"
   ]
  },
  {
   "cell_type": "code",
   "execution_count": 25,
   "id": "24cc679e-1ebf-4e71-b87f-08f65adb340a",
   "metadata": {},
   "outputs": [
    {
     "name": "stdout",
     "output_type": "stream",
     "text": [
      "{(0, 2), (0, 0)}\n"
     ]
    }
   ],
   "source": [
    "print(s.difference(b))"
   ]
  },
  {
   "cell_type": "code",
   "execution_count": null,
   "id": "3734228f-c2e4-4831-8cdd-065a77242748",
   "metadata": {},
   "outputs": [],
   "source": []
  }
 ],
 "metadata": {
  "kernelspec": {
   "display_name": "Python 3 (ipykernel)",
   "language": "python",
   "name": "python3"
  },
  "language_info": {
   "codemirror_mode": {
    "name": "ipython",
    "version": 3
   },
   "file_extension": ".py",
   "mimetype": "text/x-python",
   "name": "python",
   "nbconvert_exporter": "python",
   "pygments_lexer": "ipython3",
   "version": "3.11.4"
  }
 },
 "nbformat": 4,
 "nbformat_minor": 5
}
