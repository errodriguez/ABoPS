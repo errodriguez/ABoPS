{
 "cells": [
  {
   "cell_type": "code",
   "execution_count": null,
   "id": "ea0c7a9e-7a62-4341-a126-d99b1689f14e",
   "metadata": {},
   "outputs": [],
   "source": [
    "#One-liner\n",
    "\n",
    "print(\n",
    "'\\n'.join(\n",
    "    ''.join(\n",
    "        ' *'[(z:=0, c:=x/50+y/50j, [z:=z*z+c for _ in range(99)], abs(z))[-1]<2]\n",
    "        for x in range(-100,25)\n",
    "    )\n",
    "    for y in range(-50,50)\n",
    "))"
   ]
  },
  {
   "cell_type": "code",
   "execution_count": null,
   "id": "0ed2264e-206b-4e42-8e04-5d76cf664b1e",
   "metadata": {},
   "outputs": [],
   "source": [
    "_                                      =   (\n",
    "                                        255,\n",
    "                                      lambda\n",
    "                               V       ,B,c\n",
    "                             :c   and Y(V*V+B,B,  c\n",
    "                               -1)if(abs(V)<6)else\n",
    "               (              2+c-4*abs(V)**-0.4)/i\n",
    "                 )  ;v,      x=1500,1000;C=range(v*x\n",
    "                  );import  struct;P=struct.pack;M,\\\n",
    "            j  ='<QIIHHHH',open('M.bmp','wb').write\n",
    "for X in j('BM'+P(M,v*x*3+26,26,12,v,x,1,24))or C:\n",
    "            i  ,Y=_;j(P('BBB',*(lambda T:(T*80+T**9\n",
    "                  *i-950*T  **99,T*70-880*T**18+701*\n",
    "                 T  **9     ,T*i**(1-T**45*2)))(sum(\n",
    "               [              Y(0,(A%3/3.+X%v+(X/v+\n",
    "                               A/3/3.-x/2)/1j)*2.5\n",
    "                             /x   -2.7,i)**2 for  \\\n",
    "                               A       in C\n",
    "                                      [:9]])\n",
    "                                        /9)\n",
    "                                       )   )"
   ]
  },
  {
   "cell_type": "code",
   "execution_count": 15,
   "id": "01541e84-122e-448a-96bf-1bb7e455045a",
   "metadata": {
    "execution": {
     "iopub.execute_input": "2024-07-01T04:01:25.908640Z",
     "iopub.status.busy": "2024-07-01T04:01:25.908319Z",
     "iopub.status.idle": "2024-07-01T04:02:40.003913Z",
     "shell.execute_reply": "2024-07-01T04:02:40.003613Z",
     "shell.execute_reply.started": "2024-07-01T04:01:25.908619Z"
    }
   },
   "outputs": [],
   "source": [
    "_  =  (255, lambda V, B, c: c and Y(V*V+B,B,c-1) if (abs(V) <6 ) else (2+c-4*abs(V)**-0.4)/i)\n",
    "\n",
    "v,x = 1500, 1000\n",
    "C = range(v * x)\n",
    "\n",
    "import struct\n",
    "P = struct.pack\n",
    "M, j = '<QIIHHHH', open('M.bmp', 'wb').write\n",
    "\n",
    "j(b'BM' + P(M, v * x * 3 + 26, 26, 12, v, x, 1, 24))\n",
    "\n",
    "for X in C:\n",
    "    i, Y = _\n",
    "    T = sum(\n",
    "        Y(0, (A % 3 / 3. + X % v + (X // v + A // 3 / 3. - x / 2) / 1j) * 2.5 / x - 2.7, i) ** 2\n",
    "        for A in C[:9]\n",
    "    ) / 9\n",
    "\n",
    "    color = (\n",
    "        int(T * 80 + T ** 9 * i - 950 * T ** 99),\n",
    "        int(T * 70 - 880 * T ** 18 + 701 * T ** 9),\n",
    "        int(T * i ** (1 - T ** 45 * 2))\n",
    "    )\n",
    "\n",
    "    j(P('BBB', *color))"
   ]
  },
  {
   "cell_type": "code",
   "execution_count": null,
   "id": "134f69b1-396c-428a-9334-907b3920fa2c",
   "metadata": {},
   "outputs": [],
   "source": []
  }
 ],
 "metadata": {
  "kernelspec": {
   "display_name": "Python 3 (ipykernel)",
   "language": "python",
   "name": "python3"
  },
  "language_info": {
   "codemirror_mode": {
    "name": "ipython",
    "version": 3
   },
   "file_extension": ".py",
   "mimetype": "text/x-python",
   "name": "python",
   "nbconvert_exporter": "python",
   "pygments_lexer": "ipython3",
   "version": "3.12.4"
  }
 },
 "nbformat": 4,
 "nbformat_minor": 5
}
